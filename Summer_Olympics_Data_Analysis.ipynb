{
  "nbformat": 4,
  "nbformat_minor": 0,
  "metadata": {
    "kernelspec": {
      "display_name": "Python 2",
      "language": "python",
      "name": "python2"
    },
    "language_info": {
      "codemirror_mode": {
        "name": "ipython",
        "version": 2
      },
      "file_extension": ".py",
      "mimetype": "text/x-python",
      "name": "python",
      "nbconvert_exporter": "python",
      "pygments_lexer": "ipython2",
      "version": "2.7.16"
    },
    "colab": {
      "name": "Summer Olympics Data Analysis.ipynb",
      "provenance": []
    }
  },
  "cells": [
    {
      "cell_type": "markdown",
      "metadata": {
        "id": "J0npbIm5tSM1"
      },
      "source": [
        "# Summer Olympics Data Analysis Assignment"
      ]
    },
    {
      "cell_type": "code",
      "metadata": {
        "id": "Qsehp17Jwec8"
      },
      "source": [
        "import pandas as pd\n",
        "import numpy as np\n",
        "import matplotlib.pyplot as plt"
      ],
      "execution_count": 1,
      "outputs": []
    },
    {
      "cell_type": "code",
      "metadata": {
        "id": "DFucpHHywlyo"
      },
      "source": [
        "df = pd.read_csv(\"summer.csv\")\n",
        "data = df.values"
      ],
      "execution_count": null,
      "outputs": []
    },
    {
      "cell_type": "markdown",
      "metadata": {
        "id": "CbX8FSKctSNI"
      },
      "source": [
        "### 1. In how many cities Summer Olympics is held so far?"
      ]
    },
    {
      "cell_type": "code",
      "metadata": {
        "id": "hycbEHdVtSNO",
        "colab": {
          "base_uri": "https://localhost:8080/"
        },
        "outputId": "dcd74b4b-a405-433c-c429-99f4b7ec3f8b"
      },
      "source": [
        "print(\"Total Number of Cities where Summer Olympic held are\",len(df['City'].unique()))\n"
      ],
      "execution_count": 14,
      "outputs": [
        {
          "output_type": "stream",
          "name": "stdout",
          "text": [
            "('Total Number of Cities where Summer Olympic held are', 22)\n"
          ]
        }
      ]
    },
    {
      "cell_type": "markdown",
      "metadata": {
        "id": "1nE8zkeAtSNR"
      },
      "source": [
        "### 2. Which sport is having most number of Gold Medals so far? (Top 5)"
      ]
    },
    {
      "cell_type": "code",
      "metadata": {
        "id": "_Jhrudn9tSNT",
        "colab": {
          "base_uri": "https://localhost:8080/",
          "height": 403
        },
        "outputId": "28e7b656-8fae-4d29-89ff-b5561404ccb9"
      },
      "source": [
        "lst =[]\n",
        "for sport in df['Sport'].unique():\n",
        "  count = 0\n",
        "  for i in range(len(data)):\n",
        "    if(data[i][2]==sport):\n",
        "      if(data[i][8]=='Gold'):\n",
        "        count+=1\n",
        "  lst.append([sport,count])     \n",
        "pd.DataFrame(lst,columns = ['sport','GoldMedal']).sort_values(by='GoldMedal', ascending=False).head().plot(x = 'sport', y = 'GoldMedal', kind = 'bar', figsize = (10,5))"
      ],
      "execution_count": 78,
      "outputs": [
        {
          "output_type": "execute_result",
          "data": {
            "text/plain": [
              "<matplotlib.axes._subplots.AxesSubplot at 0x7fdfb7690610>"
            ]
          },
          "metadata": {},
          "execution_count": 78
        },
        {
          "output_type": "display_data",
          "data": {
            "image/png": "[encoded data removed]",
            "text/plain": [
              "<Figure size 720x360 with 1 Axes>"
            ]
          },
          "metadata": {
            "needs_background": "light"
          }
        }
      ]
    },
    {
      "cell_type": "code",
      "metadata": {
        "colab": {
          "base_uri": "https://localhost:8080/"
        },
        "id": "Igv0Q4ly5oO7",
        "outputId": "d260e212-2497-4d0b-82d2-570c0398c0c6"
      },
      "source": [
        "lst"
      ],
      "execution_count": 76,
      "outputs": [
        {
          "output_type": "execute_result",
          "data": {
            "text/plain": [
              "[['Aquatics', 1421],\n",
              " ['Athletics', 1215],\n",
              " ['Cycling', 371],\n",
              " ['Fencing', 552],\n",
              " ['Gymnastics', 820],\n",
              " ['Shooting', 384],\n",
              " ['Tennis', 92],\n",
              " ['Weightlifting', 200],\n",
              " ['Wrestling', 391],\n",
              " ['Archery', 126],\n",
              " ['Basque Pelota', 2],\n",
              " ['Cricket', 12],\n",
              " ['Croquet', 4],\n",
              " ['Equestrian', 320],\n",
              " ['Football', 503],\n",
              " ['Golf', 13],\n",
              " ['Polo', 22],\n",
              " ['Rowing', 890],\n",
              " ['Rugby', 78],\n",
              " ['Sailing', 412],\n",
              " ['Tug of War', 36],\n",
              " ['Boxing', 239],\n",
              " ['Lacrosse', 28],\n",
              " ['Roque', 1],\n",
              " ['Hockey', 486],\n",
              " ['Jeu de paume', 1],\n",
              " ['Rackets', 3],\n",
              " ['Skating', 9],\n",
              " ['Water Motorsports', 5],\n",
              " ['Modern Pentathlon', 60],\n",
              " ['Ice Hockey', 8],\n",
              " ['Basketball', 342],\n",
              " ['Canoe / Kayak', 334],\n",
              " ['Handball', 321],\n",
              " ['Judo', 123],\n",
              " ['Volleyball', 332],\n",
              " ['Table Tennis', 46],\n",
              " ['Badminton', 46],\n",
              " ['Baseball', 111],\n",
              " ['Softball', 60],\n",
              " ['Taekwondo', 32],\n",
              " ['Triathlon', 8],\n",
              " ['Canoe', 27]]"
            ]
          },
          "metadata": {},
          "execution_count": 76
        }
      ]
    },
    {
      "cell_type": "markdown",
      "metadata": {
        "id": "-UifK6fEtSNV"
      },
      "source": [
        "### 3. Which sport is having most number of medals so far? (Top 5)"
      ]
    },
    {
      "cell_type": "code",
      "metadata": {
        "id": "QXojrEpgtSNX",
        "colab": {
          "base_uri": "https://localhost:8080/",
          "height": 403
        },
        "outputId": "25c88f2d-7597-4c4a-9d7b-658b260211e5"
      },
      "source": [
        "medallst =[]\n",
        "for sport in df['Sport'].unique():\n",
        "  medal = 0\n",
        "  for i in range(len(data)):\n",
        "    if(data[i][2]==sport):\n",
        "        medal+=1\n",
        "  medallst.append([sport,medal])     \n",
        "pd.DataFrame(medallst,columns = ['sport','Medal']).sort_values(by='Medal', ascending=False).head().plot(x = 'sport', y = 'Medal', kind = 'bar', figsize = (10,5))"
      ],
      "execution_count": 73,
      "outputs": [
        {
          "output_type": "execute_result",
          "data": {
            "text/plain": [
              "<matplotlib.axes._subplots.AxesSubplot at 0x7fdfb7862910>"
            ]
          },
          "metadata": {},
          "execution_count": 73
        },
        {
          "output_type": "display_data",
          "data": {
            "image/png": "[encoded data removed]",
            "text/plain": [
              "<Figure size 720x360 with 1 Axes>"
            ]
          },
          "metadata": {
            "needs_background": "light"
          }
        }
      ]
    },
    {
      "cell_type": "code",
      "metadata": {
        "colab": {
          "base_uri": "https://localhost:8080/"
        },
        "id": "uuQPeJNu5-au",
        "outputId": "ba10ce7c-3b41-4980-c2a5-f5c419ead074"
      },
      "source": [
        "medallst"
      ],
      "execution_count": 79,
      "outputs": [
        {
          "output_type": "execute_result",
          "data": {
            "text/plain": [
              "[['Aquatics', 4170],\n",
              " ['Athletics', 3638],\n",
              " ['Cycling', 1105],\n",
              " ['Fencing', 1613],\n",
              " ['Gymnastics', 2307],\n",
              " ['Shooting', 1150],\n",
              " ['Tennis', 296],\n",
              " ['Weightlifting', 593],\n",
              " ['Wrestling', 1212],\n",
              " ['Archery', 329],\n",
              " ['Basque Pelota', 4],\n",
              " ['Cricket', 24],\n",
              " ['Croquet', 8],\n",
              " ['Equestrian', 939],\n",
              " ['Football', 1497],\n",
              " ['Golf', 30],\n",
              " ['Polo', 66],\n",
              " ['Rowing', 2667],\n",
              " ['Rugby', 192],\n",
              " ['Sailing', 1109],\n",
              " ['Tug of War', 94],\n",
              " ['Boxing', 894],\n",
              " ['Lacrosse', 59],\n",
              " ['Roque', 3],\n",
              " ['Hockey', 1422],\n",
              " ['Jeu de paume', 3],\n",
              " ['Rackets', 10],\n",
              " ['Skating', 27],\n",
              " ['Water Motorsports', 5],\n",
              " ['Modern Pentathlon', 180],\n",
              " ['Ice Hockey', 27],\n",
              " ['Basketball', 1012],\n",
              " ['Canoe / Kayak', 1002],\n",
              " ['Handball', 973],\n",
              " ['Judo', 491],\n",
              " ['Volleyball', 994],\n",
              " ['Table Tennis', 144],\n",
              " ['Badminton', 144],\n",
              " ['Baseball', 335],\n",
              " ['Softball', 180],\n",
              " ['Taekwondo', 112],\n",
              " ['Triathlon', 24],\n",
              " ['Canoe', 81]]"
            ]
          },
          "metadata": {},
          "execution_count": 79
        }
      ]
    },
    {
      "cell_type": "markdown",
      "metadata": {
        "id": "3fVutqrJtSNb"
      },
      "source": [
        "### 4. Which player has won most number of medals? (Top 5)"
      ]
    },
    {
      "cell_type": "code",
      "metadata": {
        "id": "oJpItjb9tSNe",
        "colab": {
          "base_uri": "https://localhost:8080/",
          "height": 462
        },
        "outputId": "2ecfc109-dd07-4695-a222-f1fbfe6704dd"
      },
      "source": [
        "playerMedal =[]\n",
        "for player in df['Athlete'].unique():\n",
        "  Pmedal = 0\n",
        "  for i in range(len(data)):\n",
        "    if(data[i][4]==player):\n",
        "        Pmedal+=1\n",
        "  playerMedal.append([player,Pmedal])     \n",
        "pd.DataFrame(playerMedal,columns = ['player','Pmedal']).sort_values(by='Pmedal', ascending=False).head().plot(x = 'player', y = 'Pmedal', kind = 'bar', figsize = (10,5))"
      ],
      "execution_count": 85,
      "outputs": [
        {
          "output_type": "execute_result",
          "data": {
            "text/plain": [
              "<matplotlib.axes._subplots.AxesSubplot at 0x7fdfb7735a90>"
            ]
          },
          "metadata": {},
          "execution_count": 85
        },
        {
          "output_type": "display_data",
          "data": {
            "image/png": "[encoded data removed]",
            "text/plain": [
              "<Figure size 720x360 with 1 Axes>"
            ]
          },
          "metadata": {
            "needs_background": "light"
          }
        }
      ]
    },
    {
      "cell_type": "markdown",
      "metadata": {
        "id": "2LMSsvMStSNg"
      },
      "source": [
        "### 5. Which player has won most number Gold Medals of medals? (Top 5)"
      ]
    },
    {
      "cell_type": "code",
      "metadata": {
        "id": "4CUaUMqrtSNh",
        "colab": {
          "base_uri": "https://localhost:8080/",
          "height": 430
        },
        "outputId": "1935e98c-2380-4f71-8af8-4b05b94812b9"
      },
      "source": [
        "playerGold =[]\n",
        "for player in df['Athlete'].unique():\n",
        "  pGold = 0\n",
        "  for i in range(len(data)):\n",
        "    if(data[i][4]==player):\n",
        "      if(data[i][8]=='Gold'):\n",
        "        pGold+=1\n",
        "  playerGold.append([player,pGold])     \n",
        "pd.DataFrame(playerGold,columns = ['player','pGold']).sort_values(by='pGold', ascending=False).head().plot(x = 'player', y = 'pGold', kind = 'bar', figsize = (10,5))"
      ],
      "execution_count": 87,
      "outputs": [
        {
          "output_type": "execute_result",
          "data": {
            "text/plain": [
              "<matplotlib.axes._subplots.AxesSubplot at 0x7fdfb70896d0>"
            ]
          },
          "metadata": {},
          "execution_count": 87
        },
        {
          "output_type": "display_data",
          "data": {
            "image/png": "[encoded data removed]",
            "text/plain": [
              "<Figure size 720x360 with 1 Axes>"
            ]
          },
          "metadata": {
            "needs_background": "light"
          }
        }
      ]
    },
    {
      "cell_type": "markdown",
      "metadata": {
        "id": "7IIEuTFjtSNi"
      },
      "source": [
        "### 6. In which year India won first Gold Medal in Summer Olympics?"
      ]
    },
    {
      "cell_type": "code",
      "metadata": {
        "id": "s8VFtu4XtSNj",
        "colab": {
          "base_uri": "https://localhost:8080/"
        },
        "outputId": "66a90c8e-330f-46fc-b500-380e54b22bff"
      },
      "source": [
        " for i in range(len(data)):\n",
        "  if(data[i][5]=='IND' and data[i][8]==\"Gold\"):\n",
        "    print(\"The Year when INDIA won the First Gold Medal in Summer Olympics was,\",data[i][0])\n",
        "    break\n"
      ],
      "execution_count": 92,
      "outputs": [
        {
          "output_type": "stream",
          "name": "stdout",
          "text": [
            "('The Year when INDIA won the First Gold Medal in Summer Olympics was,', 1928)\n"
          ]
        }
      ]
    },
    {
      "cell_type": "markdown",
      "metadata": {
        "id": "Fad-Ri8DtSNl"
      },
      "source": [
        "### 7. Which event is most popular in terms on number of players? (Top 5)"
      ]
    },
    {
      "cell_type": "code",
      "metadata": {
        "id": "DZnqYjYstSNm",
        "colab": {
          "base_uri": "https://localhost:8080/",
          "height": 436
        },
        "outputId": "8d460cf2-eb38-4ef3-b9be-1e42e4561530"
      },
      "source": [
        "eventCount =[]\n",
        "for event in df['Event'].unique():\n",
        "  pNo = 0\n",
        "  for i in range(len(data)):\n",
        "    if(data[i][7]==event):\n",
        "        pNo+=1\n",
        "  eventCount.append([event,pNo])     \n",
        "pd.DataFrame(eventCount,columns = ['event','pNo']).sort_values(by='pNo', ascending=False).head().plot(x = 'event', y = 'pNo', kind = 'bar', figsize = (10,5))"
      ],
      "execution_count": 95,
      "outputs": [
        {
          "output_type": "execute_result",
          "data": {
            "text/plain": [
              "<matplotlib.axes._subplots.AxesSubplot at 0x7fdfb6f58f90>"
            ]
          },
          "metadata": {},
          "execution_count": 95
        },
        {
          "output_type": "display_data",
          "data": {
            "image/png": "[encoded data removed]",
            "text/plain": [
              "<Figure size 720x360 with 1 Axes>"
            ]
          },
          "metadata": {
            "needs_background": "light"
          }
        }
      ]
    },
    {
      "cell_type": "code",
      "metadata": {
        "colab": {
          "base_uri": "https://localhost:8080/"
        },
        "id": "ih18vm_JRQSx",
        "outputId": "70ec5a4f-9f87-435d-f49e-114d8b5116ff"
      },
      "source": [
        "eventCount"
      ],
      "execution_count": 96,
      "outputs": [
        {
          "output_type": "execute_result",
          "data": {
            "text/plain": [
              "[['100M Freestyle', 148],\n",
              " ['100M Freestyle For Sailors', 3],\n",
              " ['1200M Freestyle', 3],\n",
              " ['400M Freestyle', 144],\n",
              " ['100M', 142],\n",
              " ['110M Hurdles', 80],\n",
              " ['1500M', 114],\n",
              " ['400M', 119],\n",
              " ['800M', 126],\n",
              " ['Discus Throw', 141],\n",
              " ['High Jump', 151],\n",
              " ['Long Jump', 132],\n",
              " ['Marathon', 105],\n",
              " ['Pole Vault', 100],\n",
              " ['Shot Put', 132],\n",
              " ['Triple Jump', 96],\n",
              " ['Individual Road Race', 76],\n",
              " ['100KM', 5],\n",
              " ['10KM', 9],\n",
              " ['12-Hour Race', 2],\n",
              " ['1KM Time Trial', 57],\n",
              " ['Sprint Indivual', 69],\n",
              " ['Foil Individual', 141],\n",
              " ['Foil, Masters', 5],\n",
              " ['Sabre Individual', 90],\n",
              " ['Horizontal Bar', 72],\n",
              " ['Parallel Bars', 72],\n",
              " ['Pommel Horse', 69],\n",
              " ['Rings', 73],\n",
              " ['Rope Climbing', 13],\n",
              " ['Team, Horizontal Bar', 11],\n",
              " ['Team, Parallel Bars', 19],\n",
              " ['Vault', 123],\n",
              " ['25M Army Pistol', 3],\n",
              " ['25M Rapid Fire Pistol (60 Shots)', 69],\n",
              " ['50M Pistol (60 Shots)', 66],\n",
              " ['Army Rifle, 200M', 3],\n",
              " ['Army Rifle, 300M', 3],\n",
              " ['Doubles', 318],\n",
              " ['Singles', 168],\n",
              " ['Heavyweight - One Hand Lift', 3],\n",
              " ['Heavyweight - Two Hand Lift', 6],\n",
              " ['Open Event', 3],\n",
              " ['1500M Freestyle', 78],\n",
              " ['200M Backstroke', 79],\n",
              " ['200M Freestyle', 78],\n",
              " ['200M Obstacle Event', 3],\n",
              " ['200M Team Swimming', 15],\n",
              " ['4000M Freestyle', 3],\n",
              " ['Underwater Swimming', 3],\n",
              " ['Water Polo', 958],\n",
              " ['Au Chapelet, 33M', 3],\n",
              " ['Au Chapelet, 50M', 3],\n",
              " ['Au Cordon Dor\\xc3\\xa9, 33M', 3],\n",
              " ['Au Cordon Dor\\xc3\\xa9, 50M', 3],\n",
              " ['Sur La Perche \\xc3\\x80 La Herse', 3],\n",
              " ['Sur La Perche \\xc3\\x80 La Pyramide', 3],\n",
              " ['200M', 129],\n",
              " ['200M Hurdles', 6],\n",
              " ['3000M Steeplechase', 72],\n",
              " ['4000M Steeplechase', 3],\n",
              " ['400M Hurdles', 99],\n",
              " ['5000M Team', 10],\n",
              " ['60M', 6],\n",
              " ['Hammer Throw', 90],\n",
              " ['High Jump, Standing', 12],\n",
              " ['Long Jump, Standing', 12],\n",
              " ['Triple Jump, Standing', 6],\n",
              " ['Cesta Punta', 4],\n",
              " ['Cricket', 24],\n",
              " ['Double', 8],\n",
              " ['Individual 1 Ball', 3],\n",
              " ['Individual 2 Balls', 3],\n",
              " ['25 Kilometres', 3],\n",
              " ['Individual', 324],\n",
              " ['Long Jump Individual', 3],\n",
              " ['\\xc3\\x89p\\xc3\\xa9e Individual', 93],\n",
              " ['\\xc3\\x89p\\xc3\\xa9e, Amateurs And Masters', 3],\n",
              " ['\\xc3\\x89p\\xc3\\xa9e, Masters', 3],\n",
              " ['Sabre, Masters', 3],\n",
              " ['Football', 1497],\n",
              " ['Individual All-Round', 143],\n",
              " ['Polo', 66],\n",
              " ['Eight With Coxswain (8+)', 918],\n",
              " ['Four-Oared Shell With Coxswain (4-)', 359],\n",
              " ['Pair-Oared Shell With Coxswain (2+)', 162],\n",
              " ['Single Sculls (1X)', 104],\n",
              " ['Rugby', 192],\n",
              " ['0.5-1T', 10],\n",
              " ['10-20T', 4],\n",
              " ['3-10T', 3],\n",
              " ['Open Class', 9],\n",
              " ['50M Army Pistol, Team', 42],\n",
              " ['Army Rifle, 300M, 3 Positions', 7],\n",
              " ['Army Rifle, 300M, Kneeling', 3],\n",
              " ['Army Rifle, 300M, Prone', 6],\n",
              " ['Army Rifle, 300M, Standing', 6],\n",
              " ['Free Rifle, Team', 66],\n",
              " ['Trap (125 Targets)', 60],\n",
              " ['Mixed Doubles', 32],\n",
              " ['Tug Of War', 94],\n",
              " ['10M Platform', 145],\n",
              " ['Plunge For Distance', 3],\n",
              " ['100M Backstroke', 136],\n",
              " ['400M Breaststroke', 9],\n",
              " ['4X50Y Freestyle Relay', 12],\n",
              " ['50Y Freestyle (45.72M)', 3],\n",
              " ['880Y Freestyle (804.66M)', 3],\n",
              " ['Double American Round (60Y - 50Y - 40Y)', 3],\n",
              " ['Double Columbia Round (50Y - 40Y - 30Y)', 3],\n",
              " ['Double National Round (60Y - 50Y)', 3],\n",
              " ['Double York Round (100Y - 80Y - 60Y)', 3],\n",
              " ['Team Round 60Y', 12],\n",
              " ['Teams Fita Round', 24],\n",
              " ['4Miles Team', 10],\n",
              " ['56LB Weight Throw (25.4KG)', 6],\n",
              " ['Decathlon', 73],\n",
              " ['Triathlon (Long Jump / Shot Put / 100 Yards)', 3],\n",
              " ['- 47.63KG (Flyweight)', 2],\n",
              " ['+ 71.67KG (Heavyweight)', 9],\n",
              " ['47.63 - 52.16KG (Bantamweight)', 2],\n",
              " ['52.16 - 56.7KG (Featherweight)', 3],\n",
              " ['56.7 - 61.24KG (Lightweight)', 3],\n",
              " ['61.24 - 65.77KG (Welterweight)', 4],\n",
              " ['65.77 - 71.67KG (Middleweight)', 2],\n",
              " ['1 Mile (1609.3M)', 3],\n",
              " ['1/2 Mile (804.7M)', 3],\n",
              " ['1/3 Mile (536.5M)', 3],\n",
              " ['1/4 Mile (402.3M)', 3],\n",
              " ['2 Miles (3.218KM)', 3],\n",
              " ['25 Miles (40.232KM)', 3],\n",
              " ['5 Miles (8.046KM)', 3],\n",
              " ['Foil Team', 505],\n",
              " ['Stick, Single', 3],\n",
              " ['Team', 908],\n",
              " ['Club Swinging', 3],\n",
              " ['Combined 3 Events', 3],\n",
              " ['Combined 4 Events', 3],\n",
              " ['Team Competition', 1147],\n",
              " ['Lacrosse', 59],\n",
              " ['Coxless Pair (2-)', 132],\n",
              " ['Double Sculls (2X)', 186],\n",
              " ['Four Without Coxswain (4-)', 260],\n",
              " ['All-Around Dumbbell Contest', 3],\n",
              " ['- 47.6KG (Light-Flyweight)', 3],\n",
              " ['47.6 - 52.16KG (Flyweight)', 3],\n",
              " ['52.16 - 56.7KG (Bantamweight)', 3],\n",
              " ['56.7 - 61.23KG (Featherweight)', 3],\n",
              " ['61.23 - 65.77KG (Lightweight)', 3],\n",
              " ['65.77 - 71.67KG (Welterweight)', 3],\n",
              " ['3M Springboard', 139],\n",
              " ['200M Breaststroke', 135],\n",
              " ['4X200M Freestyle Relay', 380],\n",
              " ['Continental Style 50M', 3],\n",
              " ['National Round (60Y - 50Y)', 3],\n",
              " ['York Round (100Y - 80Y - 60Y)', 3],\n",
              " ['10Miles Walk (16093M)', 3],\n",
              " ['3200M Steeplechase', 3],\n",
              " ['3500M Walk', 3],\n",
              " ['3Miles Team (4828M)', 9],\n",
              " ['4X400M Relay', 451],\n",
              " ['5 Miles (8047M)', 3],\n",
              " ['Discus Throw Ancient Style', 3],\n",
              " ['Javelin Throw', 129],\n",
              " ['Javelin Throw Freestyle', 3],\n",
              " ['- 52.62KG (Bantamweight)', 3],\n",
              " ['52.62 - 57.15KG (Featherweight)', 3],\n",
              " ['57.15 - 63.5KG (Lightweight)', 3],\n",
              " ['63.5 - 71.67KG (Middleweight)', 3],\n",
              " ['1980 Yards Pursuit, Team', 12],\n",
              " ['2000M Tandem', 78],\n",
              " ['20KM', 3],\n",
              " ['5000M', 87],\n",
              " ['One Lap (660Y) Sprint', 3],\n",
              " ['\\xc3\\x89p\\xc3\\xa9e Team', 385],\n",
              " ['Sabre Team', 382],\n",
              " ['Hockey', 1422],\n",
              " ['12M', 47],\n",
              " ['6M', 102],\n",
              " ['7M', 12],\n",
              " ['8M', 93],\n",
              " ['1000Y Free Rifle, Prone', 3],\n",
              " ['100M Running Deer, Double Shots', 12],\n",
              " ['100M Running Deer, Single Shots', 12],\n",
              " ['100M Running Deer, Single Shots, Team', 51],\n",
              " ['25Y Small Bore Rifle, Disappearing Target', 3],\n",
              " ['25Y Small Bore Rifle, Moving Target', 3],\n",
              " ['300M Free Rifle 3 Positions (3X40 Shots)', 30],\n",
              " ['50+100Y Small Bore Rifle, Team', 12],\n",
              " ['50M Rifle Prone (60 Shots)', 63],\n",
              " ['50Y Army Pistol, Team', 12],\n",
              " ['Clay Pigeons, Team', 72],\n",
              " ['Rifle, Team', 36],\n",
              " ['Pairs', 12],\n",
              " ['Special Figures', 3],\n",
              " ['Doubles Indoor', 12],\n",
              " ['Singles Indoor', 12],\n",
              " ['8M Class C', 2],\n",
              " ['Class B Up To 60 Feet', 2],\n",
              " ['Open Class A', 1],\n",
              " ['- 54KG (Bantamweight)', 3],\n",
              " ['+ 73KG (Heavyweight)', 3],\n",
              " ['54 - 60.3KG (Featherweight)', 3],\n",
              " ['60.3 - 66.6KG (Lightweight)', 3],\n",
              " ['66.6 - 73KG (Middleweight)', 6],\n",
              " ['- 66.6KG (Lightweight)', 3],\n",
              " ['+ 93KG (Super Heavyweight)', 3],\n",
              " ['73 - 93KG (Light-Heavyweight)', 3],\n",
              " ['Plain High Diving', 9],\n",
              " ['4X100M Freestyle Relay', 438],\n",
              " ['10000M', 90],\n",
              " ['10000M Walk', 21],\n",
              " ['3000M Team', 41],\n",
              " ['4X100M Relay', 533],\n",
              " ['Cross Country Individual', 9],\n",
              " ['Cross Country Team', 36],\n",
              " ['Discus Throw, Both Hands', 3],\n",
              " ['Javelin Throw, Both Hands', 3],\n",
              " ['Pentathlon', 25],\n",
              " ['Shot Put, Both Hands', 3],\n",
              " ['Individual Time Trial', 36],\n",
              " ['Team Time Trial', 191],\n",
              " ['Team, Free System', 117],\n",
              " ['Team, Swedish System', 147],\n",
              " ['Individual Competition', 75],\n",
              " ['Coxed Fours Jugriggers', 15],\n",
              " ['10M', 22],\n",
              " ['25M Small Bore Rifle, Team', 12],\n",
              " ['25M Small Rifle', 3],\n",
              " ['30M Army Pistol, Team', 27],\n",
              " ['50M Small Bore Rifle, Team', 27],\n",
              " ['600M Free Rifle', 3],\n",
              " ['Mixed Doubles Indoor', 6],\n",
              " ['- 60KG (Featherweight)', 9],\n",
              " ['+ 82.5KG (Super Heavyweight)', 9],\n",
              " ['60 - 67.5KG (Lightweight)', 12],\n",
              " ['67.5 - 75KG (Middleweight)', 15],\n",
              " ['75 - 82.5KG (Light-Heavyweight)', 9],\n",
              " ['Fixed Bird Target Large Birds', 3],\n",
              " ['Fixed Bird Target Large Birds Teams', 6],\n",
              " ['Fixed Bird Target Small Bird, Teams', 6],\n",
              " ['Fixed Bird Target Small Birds', 3],\n",
              " ['Moving Bird Target 28M Teams', 24],\n",
              " ['Moving Bird Target 33M Teams', 16],\n",
              " ['Moving Bird Target 50M Teams', 16],\n",
              " ['Moving Bird Target, 28M', 2],\n",
              " ['Moving Bird Target, 33M', 2],\n",
              " ['Moving Bird Target, 50M', 2],\n",
              " ['3000M Walk', 3],\n",
              " ['- 50.8KG (Flyweight)', 15],\n",
              " ['+ 79.38KG (Heavyweight)', 15],\n",
              " ['50.8 - 53.52KG (Bantamweight)', 9],\n",
              " ['53.52 - 57.15KG (Featherweight)', 9],\n",
              " ['57.15 - 61.24KG (Lightweight)', 15],\n",
              " ['61.24 - 66.68KG (Welterweight)', 15],\n",
              " ['66.68 - 72.57KG (Middleweight)', 15],\n",
              " ['72.57 - 79.38KG (Light-Heavyweight)', 15],\n",
              " ['50KM', 6],\n",
              " ['Team Pursuit (4000M)', 262],\n",
              " ['Figure Riding Individual', 3],\n",
              " ['Figure Riding Team', 11],\n",
              " ['Ice Hockey', 27],\n",
              " ['10M (Rating 1907)', 7],\n",
              " ['10M (Rating 1919)', 7],\n",
              " ['12 Foot Dinghy', 4],\n",
              " ['12M (Rating 1907)', 9],\n",
              " ['12M (Rating 1919)', 9],\n",
              " ['18 Foot Dinghy', 2],\n",
              " ['30M Sq', 4],\n",
              " ['40M Sq', 8],\n",
              " ['6.5M (Rating 1919)', 6],\n",
              " ['6M (Rating 1907)', 9],\n",
              " ['6M (Rating 1919)', 6],\n",
              " ['8M (Rating 1907)', 9],\n",
              " ['8M (Rating 1919)', 14],\n",
              " ['100M Running Deer, Double Shots, Team', 33],\n",
              " ['300+600M Free Rifle, Team, Prone', 15],\n",
              " ['300M Free Rifle, Prone, Team', 15],\n",
              " ['300M Free Rifle, Standing, Team', 15],\n",
              " ['50M Small Bore Rifle, Standing, Individual', 3],\n",
              " ['600M Free Rifle, Prone', 3],\n",
              " ['600M Free Rifle, Team', 15],\n",
              " ['- 60KG, One-Two Hand 3 Events (Featherweight)', 3],\n",
              " ['+ 82.5KG, One-Two Hand 3 Events (Heavyweight)', 3],\n",
              " ['60 - 67.5KG, One-Two Hand 3 Events (Lightweight)', 3],\n",
              " ['67.5 - 75KG, One-Two Hand 3 Events (Middleweight)', 3],\n",
              " ['75 - 82.5KG, One-Two Hand 3 E. (Light-Heavyweight)', 3],\n",
              " ['+ 80KG (Heavyweight)', 11],\n",
              " ['75 - 80KG (Light-Heavyweight)', 3],\n",
              " ['+ 82KG (Super Heavyweight)', 3],\n",
              " ['75 - 82KG (Light-Heavyweight)', 3],\n",
              " ['Sidehorse Vault', 3],\n",
              " ['Olympic Class Monotype', 9],\n",
              " ['400, 600, 800M Free Rifle, Team', 18],\n",
              " ['600M Free Rifle, Individual', 3],\n",
              " ['- 60KG, One-Two Hand 5 Events (Featherweight)', 3],\n",
              " ['+ 82.5KG, One-Two Hand 5 Events (Heavyweight)', 3],\n",
              " ['60 - 67.5KG, One-Two Hand 5 Events (Lightweight)', 3],\n",
              " ['67.5 - 75KG, One-Two Hand 5 Events (Middleweight)', 3],\n",
              " ['75 - 82.5KG, One-Two Hand 5 E. (Light-Heavyweight)', 3],\n",
              " ['- 56KG (Bantamweight)', 18],\n",
              " ['+ 87KG (Heavyweight)', 24],\n",
              " ['56 - 61KG (Featherweight)', 18],\n",
              " ['61 - 66KG (Lightweight)', 18],\n",
              " ['66 - 72KG (Welterweight)', 18],\n",
              " ['72 - 79KG (Middleweight)', 18],\n",
              " ['79 - 87KG (Light-Heavyweight)', 42],\n",
              " ['- 58KG (Bantamweight)', 6],\n",
              " ['58 - 62KG (Featherweight)', 3],\n",
              " ['62 - 67.5KG (Lightweight)', 3],\n",
              " ['1KM Pursuit', 3],\n",
              " ['12 Foot Dinghy Individual', 3],\n",
              " ['- 60KG, Total (Featherweight)', 9],\n",
              " ['+ 82.5KG, Total (Heavyweight)', 12],\n",
              " ['60 - 67.5KG, Total (Lightweight)', 45],\n",
              " ['67.5 - 75KG, Total (Middleweight)', 45],\n",
              " ['75 - 82.5KG, Total (Light-Heavyweight)', 44],\n",
              " ['58 - 60KG (Featherweight)', 3],\n",
              " ['50KM Walk', 54],\n",
              " ['80M Hurdles', 24],\n",
              " ['50.8 - 54KG (Bantamweight)', 6],\n",
              " ['54 - 57.15KG (Featherweight)', 6],\n",
              " ['Floor Exercises', 112],\n",
              " ['Indian Clubs', 3],\n",
              " ['Tumbling', 3],\n",
              " ['Two-Person Keelboat Open (Star)', 90],\n",
              " ['+ 87KG (Super Heavyweight)', 18],\n",
              " ['Basketball', 1012],\n",
              " ['C-1 1000M (Canoe Single)', 51],\n",
              " ['C-2 10000M', 24],\n",
              " ['C-2 1000M (Canoe Double)', 102],\n",
              " ['Folding K-1 10000M', 3],\n",
              " ['Folding K-2 10000M', 6],\n",
              " ['K-1 10000M', 12],\n",
              " ['K-1 1000M (Kayak Single)', 51],\n",
              " ['K-2 10000M', 24],\n",
              " ['K-2 1000M (Kayak Double)', 102],\n",
              " ['Handball', 973],\n",
              " ['- 51KG (Flyweight)', 19],\n",
              " ['51 - 54KG (Bantamweight)', 63],\n",
              " ['54 - 58KG (Featherweight)', 3],\n",
              " ['58 - 62KG (Lightweight)', 3],\n",
              " ['62 - 67KG (Welterweight)', 3],\n",
              " ['67 - 73KG (Middleweight)', 3],\n",
              " ['73 - 80KG (Light-Heavyweight)', 3],\n",
              " ['C-1 10000M', 9],\n",
              " ['K-1 500M (Kayak Single)', 75],\n",
              " ['Dragon', 63],\n",
              " ['Firefly Class', 3],\n",
              " ['Swallow (Golondrina)', 6],\n",
              " ['- 56KG, Total (Bantamweight)', 39],\n",
              " ['56 - 60KG, Total (Featherweight)', 36],\n",
              " ['- 52KG (Flyweight)', 36],\n",
              " ['52 - 57KG (Bantamweight)', 78],\n",
              " ['57 - 63KG (Featherweight)', 24],\n",
              " ['63 - 67KG (Lightweight)', 12],\n",
              " ['67 - 73KG (Welterweight)', 24],\n",
              " ['73 - 79KG (Middleweight)', 24],\n",
              " ['57 - 61KG (Featherweight)', 12],\n",
              " ['61 - 67KG (Lightweight)', 12],\n",
              " ['+ 81KG (Heavyweight)', 32],\n",
              " ['54 - 57KG (Featherweight)', 60],\n",
              " ['57 - 60KG (Lightweight)', 60],\n",
              " ['60 - 63.5KG (Light-Welterweight)', 52],\n",
              " ['63.5 - 67KG (Welterweight)', 52],\n",
              " ['67 - 71KG (Light-Middleweight)', 52],\n",
              " ['71-75KG', 52],\n",
              " ['75 - 81KG (Light-Heavyweight)', 60],\n",
              " ['Balance Beam', 46],\n",
              " ['Team, Portable Apparatus', 48],\n",
              " ['Uneven Bars', 50],\n",
              " ['5.5M', 47],\n",
              " ['Single-Handed Dinghy (Finn)', 42],\n",
              " ['100M Running Deer, Single/Double Shots', 6],\n",
              " ['50M Rifle 3 Positions (3X40 Shots)', 45],\n",
              " ['+ 90KG, Total (Heavyweight)', 15],\n",
              " ['82.5 - 90KG, Total (Middle-Heavyweight)', 33],\n",
              " ['100M Butterfly', 81],\n",
              " ['200M Butterfly', 81],\n",
              " ['20KM Walk', 45],\n",
              " ['Sharpie 12M2', 6],\n",
              " ['4X100M Medley Relay', 387],\n",
              " ['K-1 4X500M', 12],\n",
              " ['K-2 500M (Kayak Double)', 132],\n",
              " ['Flying Dutchman', 54],\n",
              " ['400M Individual Medley', 72],\n",
              " ['K-4 1000M (Kayak Four)', 144],\n",
              " ['Individual Pursuit', 51],\n",
              " ['- 68KG (Lightweight)', 4],\n",
              " ['68 - 80KG (Middleweight)', 4],\n",
              " ['Open Category', 20],\n",
              " ['Volleyball', 934],\n",
              " ['+ 97KG (Heavyweight)', 6],\n",
              " ['63 - 70KG (Lightweight)', 12],\n",
              " ['70 - 78KG (Welterweight)', 12],\n",
              " ['78 - 87KG (Middleweight)', 12],\n",
              " ['87 - 97KG (Light-Heavyweight)', 12],\n",
              " ['+ 97KG (Super Heavyweight)', 6],\n",
              " ['100M Breaststroke', 72],\n",
              " ['200M Individual Medley', 54],\n",
              " ['800M Freestyle', 36],\n",
              " ['- 48KG (Light-Flyweight)', 78],\n",
              " ['48 - 51KG (Flyweight)', 44],\n",
              " ['Skeet (125 Targets)', 33],\n",
              " ['Individual Fita Round', 30],\n",
              " ['100M Hurdles', 34],\n",
              " ['C-1 (Canoe Single)', 18],\n",
              " ['C-2 (Canoe Double)', 36],\n",
              " ['K-1 (Kayak Single)', 36],\n",
              " ['- 63KG (Lightweight)', 7],\n",
              " ['+ 93KG (Heavyweight)', 8],\n",
              " ['63 - 70KG (Half-Middleweight)', 8],\n",
              " ['70 - 80KG (Middleweight)', 8],\n",
              " ['80 - 93KG (Half-Heavyweight)', 8],\n",
              " ['Fleet/Match Race Keelboat Open (Soling)', 72],\n",
              " ['Tempest', 12],\n",
              " ['50M Running Target (30+30 Shots)', 21],\n",
              " ['- 52KG, Total (Flyweight)', 18],\n",
              " ['+ 110KG, Total (Super Heavyweight)', 18],\n",
              " ['52 - 56KG, Total (Bantamweight)', 3],\n",
              " ['91 - 110KG, Total (Heavyweight)', 6],\n",
              " ['+ 100KG (Super Heavyweight)', 24],\n",
              " ['48 - 52KG (Flyweight)', 42],\n",
              " ['57 - 62KG (Featherweight)', 42],\n",
              " ['62 - 68KG (Lightweight)', 42],\n",
              " ['68 - 74KG (Welterweight)', 42],\n",
              " ['74 - 82KG (Middleweight)', 42],\n",
              " ['82 - 90KG (Light-Heavyweight)', 42],\n",
              " ['90 - 100KG (Heavyweight)', 42],\n",
              " ['C-1 500M (Canoe Single)', 27],\n",
              " ['C-2 500M (Canoe Double)', 54],\n",
              " ['Pair Without Coxswain (2-)', 54],\n",
              " ['Quadruple Sculls With Coxswain (4X)', 45],\n",
              " ['Quadruple Sculls Without Coxswain (4X)', 180],\n",
              " ['470 - Two Person Dinghy', 90],\n",
              " ['Tornado - Multihull', 54],\n",
              " ['- 60 KG', 36],\n",
              " ['+ 95KG (Heavyweight)', 16],\n",
              " ['60 - 65KG (Half-Lightweight)', 16],\n",
              " ['65 - 71KG (Lightweight)', 16],\n",
              " ['71 - 78KG (Half-Middleweight)', 16],\n",
              " ['78 - 86KG (Middleweight)', 16],\n",
              " ['86 - 95KG (Half-Heavyweight)', 16],\n",
              " ['100 - 110KG, Total (Heavyweight)', 12],\n",
              " ['90 - 100KG, Total (First-Heavyweight)', 12],\n",
              " ['Duet', 42],\n",
              " ['Solo', 9],\n",
              " ['3000M', 9],\n",
              " ['Heptathlon', 24],\n",
              " ['+ 91KG (Super Heavyweight)', 28],\n",
              " ['81 - 91KG (Heavyweight)', 28],\n",
              " ['K-4 500M (Kayak Four)', 84],\n",
              " ['Points Race', 33],\n",
              " ['Board (Windglider)', 3],\n",
              " ['10M Air Rifle (40 Shots)', 21],\n",
              " ['10M Air Rifle (60 Shots)', 21],\n",
              " ['25M Pistol (30+30 Shots)', 21],\n",
              " ['50M Rifle 3 Positions (3X20 Shots)', 21],\n",
              " ['50M Freestyle', 43],\n",
              " ['Sprint', 24],\n",
              " ['Board (Division Ii)', 3],\n",
              " ['10M Air Pistol (40 Shots)', 18],\n",
              " ['10M Air Pistol (60 Shots)', 18],\n",
              " ['100 - 130KG (Super Heavyweight)', 18],\n",
              " ['Individual (Fita Olympic Round - 70M)', 30],\n",
              " ['Team (Fita Olympic Round - 70M)', 90],\n",
              " ['Baseball', 335],\n",
              " ['- 48KG (Extra-Lightweight)', 12],\n",
              " ['+ 72KG (Heavyweight)', 8],\n",
              " ['48 - 52KG (Half-Lightweight)', 20],\n",
              " ['52 - 56KG (Lightweight)', 8],\n",
              " ['56 - 61KG (Half-Middleweight)', 8],\n",
              " ['61 - 66KG (Middleweight)', 8],\n",
              " ['66 - 72KG (Half-Heavyweight)', 8],\n",
              " ['Coxless Four (4-)', 12],\n",
              " ['Board (Lechner)', 6],\n",
              " ['Single-Handed Dinghy (Europe)', 12],\n",
              " ['Cross-Country', 30],\n",
              " ['Group Competition', 90],\n",
              " ['+ 100KG (Heavyweight)', 16],\n",
              " ['60 - 66KG (Half-Lightweight)', 16],\n",
              " ['66 - 73KG (Lightweight)', 16],\n",
              " ['73 - 81KG (Half-Middleweight)', 16],\n",
              " ['81 - 90KG (Middleweight)', 16],\n",
              " ['90 - 100KG (Half-Heavyweight)', 16],\n",
              " ['Lightweight Coxless Four (4-)', 48],\n",
              " ['Lightweight Double Sculls (2X)', 48],\n",
              " ['Board (Mistral)', 18],\n",
              " ['Single-Handed Dinghy Open (Laser)', 9],\n",
              " ['Double Trap (120 Targets)', 9],\n",
              " ['Double Trap (150 Targets)', 12],\n",
              " ['Softball', 180],\n",
              " ['Beach Volleyball', 60],\n",
              " ['- 54KG, Total (Flyweight)', 3],\n",
              " ['+ 108KG, Total (Super Heavyweight)', 3],\n",
              " ['54 - 59KG, Total (Bantamweight)', 3],\n",
              " ['59 - 64KG, Total (Featherweight)', 3],\n",
              " ['64 - 70KG, Total (Lightweight)', 3],\n",
              " ['70 - 76KG, Total (Middleweight)', 3],\n",
              " ['76 - 83KG, Total (Light-Heavyweight)', 3],\n",
              " ['83 - 91KG, Total (Middle-Heavyweight)', 3],\n",
              " ['91 - 99KG, Total (First-Heavyweight)', 3],\n",
              " ['99 - 108KG, Total (Heavyweight)', 3],\n",
              " ['Synchronized Diving 10M Platform', 36],\n",
              " ['Synchronized Diving 3M Springboard', 36],\n",
              " ['20KM Race Walk', 12],\n",
              " ['500M Time Trial', 6],\n",
              " ['Keirin', 16],\n",
              " ['Madison', 18],\n",
              " ['Olympic Sprint', 9],\n",
              " ['+ 78KG (Heavyweight)', 12],\n",
              " ['52 - 57KG (Lightweight)', 12],\n",
              " ['57 - 63KG (Half-Middleweight)', 12],\n",
              " ['63 - 70KG (Middleweight)', 12],\n",
              " ['70 - 78KG (Half-Heavyweight)', 12],\n",
              " ['49Er - Skiff', 24],\n",
              " ['10M Running Target (30+30 Shots)', 6],\n",
              " ['Skeet (75 Targets)', 9],\n",
              " ['Trap (75 Targets)', 9],\n",
              " ['- 49 KG', 14],\n",
              " ['- 58 KG', 14],\n",
              " ['+ 67 KG', 14],\n",
              " ['+ 80 KG', 14],\n",
              " ['49 - 57 KG', 14],\n",
              " ['57 - 67 KG', 14],\n",
              " ['58 - 68 KG', 14],\n",
              " ['68 - 80 KG', 14],\n",
              " ['+ 105KG', 9],\n",
              " ['+ 75KG', 9],\n",
              " ['105KG', 12],\n",
              " ['48KG', 12],\n",
              " ['53KG', 12],\n",
              " ['56KG', 7],\n",
              " ['58KG', 12],\n",
              " ['62KG', 12],\n",
              " ['63KG', 12],\n",
              " ['69KG', 24],\n",
              " ['75KG', 12],\n",
              " ['77KG', 12],\n",
              " ['85KG', 12],\n",
              " ['94KG', 12],\n",
              " ['48 - 54KG', 6],\n",
              " ['54 - 58KG', 6],\n",
              " ['58 - 63KG', 6],\n",
              " ['63 - 69KG', 6],\n",
              " ['69 - 76KG', 6],\n",
              " ['76 - 85KG', 6],\n",
              " ['85 - 97KG', 6],\n",
              " ['97 - 130KG', 6],\n",
              " ['48KG (Light Flywieght)', 8],\n",
              " ['60 - 64 KG', 12],\n",
              " ['64 - 69 KG', 12],\n",
              " ['69 - 75 KG', 12],\n",
              " ['Team Sprint', 33],\n",
              " ['- 48 KG', 12],\n",
              " ['Star - Keelboat', 12],\n",
              " ['Yngling - Keelboat', 18],\n",
              " ['- 48KG', 7],\n",
              " ['- 55KG', 14],\n",
              " ['48 - 55KG', 7],\n",
              " ['55 - 60KG', 14],\n",
              " ['55 - 63KG', 7],\n",
              " ['60 - 66KG', 18],\n",
              " ['63 - 72KG', 7],\n",
              " ['66 - 74KG', 14],\n",
              " ['74 - 84KG', 13],\n",
              " ['84 - 96KG', 14],\n",
              " ['96 - 120KG', 14],\n",
              " ['Marathon 10KM', 6],\n",
              " ['Finn - Heavyweight Dinghy', 3],\n",
              " ['Laser - One Person Dinghy', 3],\n",
              " ['Laser Radial - One Person Dinghy', 3],\n",
              " ['Rs:X - Windsurfer', 6],\n",
              " ['Synchronized 10M', 12],\n",
              " ['Synchronized 3M', 12],\n",
              " ['200M Medley', 6],\n",
              " ['400M Medley', 6],\n",
              " ['4X100M Freestyle', 38],\n",
              " ['4X100M Medley', 35],\n",
              " ['4X200M Freestyle', 38],\n",
              " ['3000M Steeple', 6],\n",
              " ['+ 91KG', 4],\n",
              " ['46 - 49KG', 4],\n",
              " ['51 KG', 4],\n",
              " ['52KG', 4],\n",
              " ['57 - 60KG', 4],\n",
              " ['60 KG', 4],\n",
              " ['75 - 81KG', 4],\n",
              " ['75 KG', 4],\n",
              " ['81 - 91KG', 4],\n",
              " ['C-1 (Single)', 3],\n",
              " ['C-2 (Double)', 6],\n",
              " ['K-1 (Single)', 6],\n",
              " ['C-1 1000M', 3],\n",
              " ['C-1 200M', 3],\n",
              " ['C-2 1000M', 6],\n",
              " ['K-1 1000M', 3],\n",
              " ['K-1 200M', 6],\n",
              " ['K-1 500M', 3],\n",
              " ['K-2 1000M', 6],\n",
              " ['K-2 200M', 6],\n",
              " ['K-2 500M', 6],\n",
              " ['K-4 1000M', 12],\n",
              " ['K-4 500M', 12],\n",
              " ['Individual Road', 6],\n",
              " ['Time Trial', 6],\n",
              " ['Omnium', 6],\n",
              " ['Team Pursuit', 22],\n",
              " ['Beam', 3],\n",
              " ['Individual All-Around', 9],\n",
              " ['+ 100KG', 4],\n",
              " ['+ 78KG', 4],\n",
              " ['48 - 52KG', 4],\n",
              " ['52 - 57KG', 4],\n",
              " ['57 - 63KG', 4],\n",
              " ['63 - 70KG', 4],\n",
              " ['66 - 73KG', 4],\n",
              " ['70 - 78KG', 4],\n",
              " ['73 - 81KG', 4],\n",
              " ['81 - 90KG', 4],\n",
              " ['90 - 100KG', 4],\n",
              " ['Coxless Four', 12],\n",
              " ['Coxless Pair 2-', 12],\n",
              " ['Double Sculls', 12],\n",
              " ['Eight With Coxswain', 54],\n",
              " ['Lightweight 4', 12],\n",
              " ['Lightweight Doubles', 12],\n",
              " ['Quadruple Sculls', 24],\n",
              " ['Single Sculls', 6],\n",
              " ['470', 12],\n",
              " ['Elliott 6M', 9],\n",
              " ['Finn', 3],\n",
              " ['Laser', 3],\n",
              " ['Laser Radial', 3],\n",
              " ['Rs:X', 6],\n",
              " ['Star', 6],\n",
              " ['10M Air Pistol', 6],\n",
              " ['10M Air Rifle', 6],\n",
              " ['25M Pistol', 3],\n",
              " ['25M Rapid Pistol', 3],\n",
              " ['50M Pistol', 3],\n",
              " ['50M Rifle 3 Positions', 6],\n",
              " ['50M Rifle Prone', 3],\n",
              " ['Double Trap 150', 3],\n",
              " ['Skeet', 6],\n",
              " ['Trap', 6],\n",
              " ['+105KG', 3],\n",
              " ['+75KG', 3],\n",
              " ['-56KG', 3],\n",
              " ['Wf 120KG', 4],\n",
              " ['Wf 48 KG', 4],\n",
              " ['Wf 55 KG', 8],\n",
              " ['Wf 60 KG', 4],\n",
              " ['Wf 63 KG', 4],\n",
              " ['Wf 66 KG', 4],\n",
              " ['Wf 72 KG', 4],\n",
              " ['Wf 74 KG', 4],\n",
              " ['Wf 84 KG', 4],\n",
              " ['Wf 96 KG', 4],\n",
              " ['Wg 120 KG', 4],\n",
              " ['Wg 55 KG', 4],\n",
              " ['Wg 60 KG', 4],\n",
              " ['Wg 66 KG', 4],\n",
              " ['Wg 74 KG', 4],\n",
              " ['Wg 84 KG', 4],\n",
              " ['Wg 96 KG', 4]]"
            ]
          },
          "metadata": {},
          "execution_count": 96
        }
      ]
    },
    {
      "cell_type": "markdown",
      "metadata": {
        "id": "tO4tO_1WtSNn"
      },
      "source": [
        "### 8. Which sport is having most female Gold Medalists? (Top 5)"
      ]
    },
    {
      "cell_type": "code",
      "metadata": {
        "id": "P099wJz3tSNo",
        "colab": {
          "base_uri": "https://localhost:8080/",
          "height": 403
        },
        "outputId": "39cb00c3-b7e8-41c5-ce36-9dbb74e7e1e4"
      },
      "source": [
        "femaleGold =[]\n",
        "for sport in df['Sport'].unique():\n",
        "  fCount = 0\n",
        "  for i in range(len(data)):\n",
        "    if(data[i][2]==sport):\n",
        "      if(data[i][6]=='Women' and data[i][8]=='Gold'):\n",
        "        fCount+=1\n",
        "  femaleGold.append([sport,fCount])     \n",
        "pd.DataFrame(femaleGold,columns = ['sport','fCount']).sort_values(by='fCount', ascending=False).head().plot(x = 'sport', y = 'fCount', kind = 'bar', figsize = (10,5))"
      ],
      "execution_count": 101,
      "outputs": [
        {
          "output_type": "execute_result",
          "data": {
            "text/plain": [
              "<matplotlib.axes._subplots.AxesSubplot at 0x7fdfb6e97310>"
            ]
          },
          "metadata": {},
          "execution_count": 101
        },
        {
          "output_type": "display_data",
          "data": {
            "image/png": "[encoded data removed]",
            "text/plain": [
              "<Figure size 720x360 with 1 Axes>"
            ]
          },
          "metadata": {
            "needs_background": "light"
          }
        }
      ]
    },
    {
      "cell_type": "code",
      "metadata": {
        "colab": {
          "base_uri": "https://localhost:8080/"
        },
        "id": "ZnZBURq1TXSE",
        "outputId": "2c5219de-fb23-4b71-9187-c5390d0c758e"
      },
      "source": [
        "femaleGold"
      ],
      "execution_count": 102,
      "outputs": [
        {
          "output_type": "execute_result",
          "data": {
            "text/plain": [
              "[['Aquatics', 589],\n",
              " ['Athletics', 389],\n",
              " ['Cycling', 45],\n",
              " ['Fencing', 108],\n",
              " ['Gymnastics', 268],\n",
              " ['Shooting', 43],\n",
              " ['Tennis', 38],\n",
              " ['Weightlifting', 28],\n",
              " ['Wrestling', 12],\n",
              " ['Archery', 39],\n",
              " ['Basque Pelota', 0],\n",
              " ['Cricket', 0],\n",
              " ['Croquet', 0],\n",
              " ['Equestrian', 51],\n",
              " ['Football', 86],\n",
              " ['Golf', 1],\n",
              " ['Polo', 0],\n",
              " ['Rowing', 217],\n",
              " ['Rugby', 0],\n",
              " ['Sailing', 38],\n",
              " ['Tug of War', 0],\n",
              " ['Boxing', 3],\n",
              " ['Lacrosse', 0],\n",
              " ['Roque', 0],\n",
              " ['Hockey', 144],\n",
              " ['Jeu de paume', 0],\n",
              " ['Rackets', 0],\n",
              " ['Skating', 4],\n",
              " ['Water Motorsports', 0],\n",
              " ['Modern Pentathlon', 4],\n",
              " ['Ice Hockey', 0],\n",
              " ['Basketball', 120],\n",
              " ['Canoe / Kayak', 76],\n",
              " ['Handball', 142],\n",
              " ['Judo', 42],\n",
              " ['Volleyball', 166],\n",
              " ['Table Tennis', 23],\n",
              " ['Badminton', 23],\n",
              " ['Baseball', 0],\n",
              " ['Softball', 60],\n",
              " ['Taekwondo', 16],\n",
              " ['Triathlon', 4],\n",
              " ['Canoe', 9]]"
            ]
          },
          "metadata": {},
          "execution_count": 102
        }
      ]
    }
  ]
}